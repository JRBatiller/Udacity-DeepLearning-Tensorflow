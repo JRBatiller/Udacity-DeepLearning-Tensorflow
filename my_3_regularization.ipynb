{
 "cells": [
  {
   "cell_type": "markdown",
   "metadata": {
    "colab_type": "text",
    "id": "kR-4eNdK6lYS"
   },
   "source": [
    "Deep Learning\n",
    "=============\n",
    "\n",
    "Assignment 3\n",
    "------------\n",
    "\n",
    "Previously in `2_fullyconnected.ipynb`, you trained a logistic regression and a neural network model.\n",
    "\n",
    "The goal of this assignment is to explore regularization techniques."
   ]
  },
  {
   "cell_type": "code",
   "execution_count": 6,
   "metadata": {
    "cellView": "both",
    "colab": {
     "autoexec": {
      "startup": false,
      "wait_interval": 0
     }
    },
    "colab_type": "code",
    "id": "JLpLa8Jt7Vu4"
   },
   "outputs": [],
   "source": [
    "# These are all the modules we'll be using later. Make sure you can import them\n",
    "# before proceeding further.\n",
    "from __future__ import print_function\n",
    "import numpy as np\n",
    "import tensorflow as tf\n",
    "from six.moves import cPickle as pickle"
   ]
  },
  {
   "cell_type": "markdown",
   "metadata": {
    "colab_type": "text",
    "id": "1HrCK6e17WzV"
   },
   "source": [
    "First reload the data we generated in `1_notmnist.ipynb`."
   ]
  },
  {
   "cell_type": "code",
   "execution_count": 7,
   "metadata": {
    "cellView": "both",
    "colab": {
     "autoexec": {
      "startup": false,
      "wait_interval": 0
     },
     "output_extras": [
      {
       "item_id": 1
      }
     ]
    },
    "colab_type": "code",
    "executionInfo": {
     "elapsed": 11777,
     "status": "ok",
     "timestamp": 1449849322348,
     "user": {
      "color": "",
      "displayName": "",
      "isAnonymous": false,
      "isMe": true,
      "permissionId": "",
      "photoUrl": "",
      "sessionId": "0",
      "userId": ""
     },
     "user_tz": 480
    },
    "id": "y3-cj1bpmuxc",
    "outputId": "e03576f1-ebbe-4838-c388-f1777bcc9873"
   },
   "outputs": [
    {
     "name": "stdout",
     "output_type": "stream",
     "text": [
      "Training set (200000, 28, 28) (200000,)\n",
      "Validation set (10000, 28, 28) (10000,)\n",
      "Test set (10000, 28, 28) (10000,)\n"
     ]
    }
   ],
   "source": [
    "pickle_file = 'notMNIST.pickle'\n",
    "\n",
    "with open(pickle_file, 'rb') as f:\n",
    "  save = pickle.load(f)\n",
    "  train_dataset = save['train_dataset']\n",
    "  train_labels = save['train_labels']\n",
    "  valid_dataset = save['valid_dataset']\n",
    "  valid_labels = save['valid_labels']\n",
    "  test_dataset = save['test_dataset']\n",
    "  test_labels = save['test_labels']\n",
    "  del save  # hint to help gc free up memory\n",
    "  print('Training set', train_dataset.shape, train_labels.shape)\n",
    "  print('Validation set', valid_dataset.shape, valid_labels.shape)\n",
    "  print('Test set', test_dataset.shape, test_labels.shape)"
   ]
  },
  {
   "cell_type": "markdown",
   "metadata": {
    "colab_type": "text",
    "id": "L7aHrm6nGDMB"
   },
   "source": [
    "Reformat into a shape that's more adapted to the models we're going to train:\n",
    "- data as a flat matrix,\n",
    "- labels as float 1-hot encodings."
   ]
  },
  {
   "cell_type": "code",
   "execution_count": 3,
   "metadata": {
    "cellView": "both",
    "colab": {
     "autoexec": {
      "startup": false,
      "wait_interval": 0
     },
     "output_extras": [
      {
       "item_id": 1
      }
     ]
    },
    "colab_type": "code",
    "executionInfo": {
     "elapsed": 11728,
     "status": "ok",
     "timestamp": 1449849322356,
     "user": {
      "color": "",
      "displayName": "",
      "isAnonymous": false,
      "isMe": true,
      "permissionId": "",
      "photoUrl": "",
      "sessionId": "0",
      "userId": ""
     },
     "user_tz": 480
    },
    "id": "IRSyYiIIGIzS",
    "outputId": "3f8996ee-3574-4f44-c953-5c8a04636582"
   },
   "outputs": [
    {
     "name": "stdout",
     "output_type": "stream",
     "text": [
      "Training set (200000, 784) (200000, 10)\n",
      "Validation set (10000, 784) (10000, 10)\n",
      "Test set (10000, 784) (10000, 10)\n"
     ]
    }
   ],
   "source": [
    "image_size = 28\n",
    "num_labels = 10\n",
    "\n",
    "def reformat(dataset, labels):\n",
    "  dataset = dataset.reshape((-1, image_size * image_size)).astype(np.float32)\n",
    "  # Map 1 to [0.0, 1.0, 0.0 ...], 2 to [0.0, 0.0, 1.0 ...]\n",
    "  labels = (np.arange(num_labels) == labels[:,None]).astype(np.float32)\n",
    "  return dataset, labels\n",
    "train_dataset, train_labels = reformat(train_dataset, train_labels)\n",
    "valid_dataset, valid_labels = reformat(valid_dataset, valid_labels)\n",
    "test_dataset, test_labels = reformat(test_dataset, test_labels)\n",
    "print('Training set', train_dataset.shape, train_labels.shape)\n",
    "print('Validation set', valid_dataset.shape, valid_labels.shape)\n",
    "print('Test set', test_dataset.shape, test_labels.shape)"
   ]
  },
  {
   "cell_type": "code",
   "execution_count": 4,
   "metadata": {
    "cellView": "both",
    "colab": {
     "autoexec": {
      "startup": false,
      "wait_interval": 0
     }
    },
    "colab_type": "code",
    "id": "RajPLaL_ZW6w"
   },
   "outputs": [],
   "source": [
    "def accuracy(predictions, labels):\n",
    "  return (100.0 * np.sum(np.argmax(predictions, 1) == np.argmax(labels, 1))\n",
    "          / predictions.shape[0])"
   ]
  },
  {
   "cell_type": "markdown",
   "metadata": {
    "colab_type": "text",
    "id": "sgLbUAQ1CW-1"
   },
   "source": [
    "---\n",
    "Problem 1\n",
    "---------\n",
    "\n",
    "Introduce and tune L2 regularization for both logistic and neural network models. Remember that L2 amounts to adding a penalty on the norm of the weights to the loss. In TensorFlow, you can compute the L2 loss for a tensor `t` using `nn.l2_loss(t)`. The right amount of regularization should improve your validation / test accuracy.\n",
    "\n",
    "---"
   ]
  },
  {
   "cell_type": "markdown",
   "metadata": {},
   "source": [
    "Modified the Graph function to accept either SGD or NN logits "
   ]
  },
  {
   "cell_type": "code",
   "execution_count": 1,
   "metadata": {},
   "outputs": [],
   "source": [
    "def SGD_logits(train, weights, biases):\n",
    "    logits = tf.matmul(train, weights[0]) + biases[0]\n",
    "    return logits\n",
    "\n",
    "\n",
    "def NN_logits(train, weights, biases):\n",
    "\n",
    "    for i in range(len(weights)):\n",
    "        logits = tf.matmul(train, weights[i]) + biases[i]\n",
    "        train = tf.nn.relu(logits)\n",
    "    return logits"
   ]
  },
  {
   "cell_type": "markdown",
   "metadata": {},
   "source": [
    "These functions will handle logit computation for the graph\n",
    "\n",
    "dimension_list is a variable that lists out the dimensions of the hidden nodes\n",
    "       X =>   hidden_1 => hidden_2 => ... => num_labels\n",
    "       \n",
    "generate_variables is a function defined in the graph to make the weighs and the biases according to the dimensions specified in dimension_list"
   ]
  },
  {
   "cell_type": "code",
   "execution_count": 2,
   "metadata": {},
   "outputs": [
    {
     "ename": "NameError",
     "evalue": "name 'image_size' is not defined",
     "output_type": "error",
     "traceback": [
      "\u001b[1;31m---------------------------------------------------------------------------\u001b[0m",
      "\u001b[1;31mNameError\u001b[0m                                 Traceback (most recent call last)",
      "\u001b[1;32m<ipython-input-2-cad672c60619>\u001b[0m in \u001b[0;36m<module>\u001b[1;34m()\u001b[0m\n\u001b[0;32m      9\u001b[0m \u001b[1;33m\u001b[0m\u001b[0m\n\u001b[0;32m     10\u001b[0m \u001b[1;33m\u001b[0m\u001b[0m\n\u001b[1;32m---> 11\u001b[1;33m \u001b[0mdimension_list\u001b[0m \u001b[1;33m=\u001b[0m \u001b[1;33m[\u001b[0m\u001b[0mimage_size\u001b[0m\u001b[1;33m*\u001b[0m\u001b[0mimage_size\u001b[0m\u001b[1;33m,\u001b[0m \u001b[0mhidden_nodes\u001b[0m\u001b[1;33m,\u001b[0m \u001b[0mnum_labels\u001b[0m\u001b[1;33m]\u001b[0m\u001b[1;33m\u001b[0m\u001b[0m\n\u001b[0m\u001b[0;32m     12\u001b[0m \u001b[0mlogit_maker\u001b[0m \u001b[1;33m=\u001b[0m \u001b[0mNN_logits\u001b[0m\u001b[1;33m\u001b[0m\u001b[0m\n\u001b[0;32m     13\u001b[0m \u001b[1;33m\u001b[0m\u001b[0m\n",
      "\u001b[1;31mNameError\u001b[0m: name 'image_size' is not defined"
     ]
    }
   ],
   "source": [
    "batch_size = 128\n",
    "hidden_nodes = 1024\n",
    "num_steps = 3001\n",
    "\n",
    "\"\"\"\n",
    "dimension_list = [image_size*image_size, num_labels]\n",
    "logit_maker = SGD_logits\n",
    "\"\"\"\n",
    "\n",
    "\n",
    "dimension_list = [image_size*image_size, hidden_nodes, num_labels]\n",
    "logit_maker = NN_logits\n",
    "\n",
    "##################\n",
    "# MODIFIED GRAPH\n",
    "####################\n",
    "graph = tf.Graph()\n",
    "with graph.as_default():\n",
    "    def generate_variables(dimension_list):\n",
    "        weights = []\n",
    "        biases = []\n",
    "        for i in range(1, len(dimension_list)):\n",
    "            weights.append(tf.Variable(tf.truncated_normal(\n",
    "                [dimension_list[i-1], dimension_list[i]])))\n",
    "            biases.append(tf.Variable(tf.zeros([dimension_list[i]])))\n",
    "        return weights, biases\n",
    "\n",
    "    # Input data. For the training data, we use a placeholder that will be fed\n",
    "    # at run time with a training minibatch.\n",
    "    tf_train_dataset = tf.placeholder(tf.float32,\n",
    "                                      shape=(batch_size, image_size * image_size))\n",
    "    tf_train_labels = tf.placeholder(tf.float32, shape=(batch_size, num_labels))\n",
    "    tf_valid_dataset = tf.constant(valid_dataset)\n",
    "    tf_test_dataset = tf.constant(test_dataset)\n",
    "    beta = tf.placeholder(tf.float32)\n",
    "\n",
    "    # Variables.\n",
    "    weights, biases = generate_variables(dimension_list)\n",
    "    # Training computation.\n",
    "    logits = logit_maker(tf_train_dataset,  weights, biases)\n",
    "    loss = tf.reduce_mean(\n",
    "        tf.nn.softmax_cross_entropy_with_logits(labels=tf_train_labels, logits=logits))\n",
    "\n",
    "    for weight in weights:\n",
    "        loss = loss + beta*tf.nn.l2_loss(weight)\n",
    "\n",
    "    # Optimizer.\n",
    "    optimizer = tf.train.GradientDescentOptimizer(0.5).minimize(loss)\n",
    "\n",
    "    # Predictions for the training, validation, and test data.\n",
    "    train_prediction = tf.nn.softmax(logits)\n",
    "    valid_logits = logit_maker(tf_valid_dataset, weights, biases)\n",
    "    valid_prediction = tf.nn.softmax(valid_logits)\n",
    "    test_logits = logit_maker(tf_test_dataset, weights, biases)\n",
    "    test_prediction = tf.nn.softmax(test_logits)\n",
    "\n",
    "\n"
   ]
  },
  {
   "cell_type": "markdown",
   "metadata": {},
   "source": [
    "Session left unchanged except placed inside a for loop to search out best beta value \n",
    "<br>\n",
    "for the 1_layer_NN \n",
    "<br>\n",
    "best_beta = 0.001584893192461114\n",
    "<br>\n",
    "max_acc = 93.1"
   ]
  },
  {
   "cell_type": "code",
   "execution_count": null,
   "metadata": {},
   "outputs": [],
   "source": [
    "beta_vals = [10**i for i in np.linspace(-3, -1, 21)]\n",
    "test_acc = []\n",
    "#beta_vals=[0]\n",
    "for beta_val in beta_vals:\n",
    "    with tf.Session(graph=graph) as session:\n",
    "        tf.global_variables_initializer().run()\n",
    "        print(\"Initialized\")\n",
    "        for step in range(num_steps):\n",
    "            # Pick an offset within the training data, which has been randomized.\n",
    "            # Note: we could use better randomization across epochs.\n",
    "            offset = (step * batch_size) % (train_labels.shape[0] - batch_size)\n",
    "            # Generate a minibatch.\n",
    "            batch_data = train_dataset[offset:(offset + batch_size), :]\n",
    "            batch_labels = train_labels[offset:(offset + batch_size), :]\n",
    "            # Prepare a dictionary telling the session where to feed the minibatch.\n",
    "            # The key of the dictionary is the placeholder node of the graph to be fed,\n",
    "            # and the value is the numpy array to feed to it.\n",
    "            feed_dict = {tf_train_dataset: batch_data,\n",
    "                         tf_train_labels: batch_labels, beta: beta_val}\n",
    "            _, l, predictions = session.run(\n",
    "                [optimizer, loss, train_prediction], feed_dict=feed_dict)\n",
    "            if (step % 500 == 0):\n",
    "                print(\"Minibatch loss at step %d: %f\" % (step, l))\n",
    "                print(\"Minibatch accuracy: %.1f%%\" % nmm.accuracy(predictions, batch_labels))\n",
    "                print(\"Validation accuracy: %.1f%%\" % nmm.accuracy(\n",
    "                    valid_prediction.eval(), valid_labels))\n",
    "        print(\"Test accuracy: %.1f%%\" % nmm.accuracy(test_prediction.eval(), test_labels))\n",
    "        test_acc.append(nmm.accuracy(test_prediction.eval(), test_labels))\n",
    "        \n",
    "plt.semilogx(beta_vals, test_acc)\n",
    "\n",
    "index = np.argmax(np.array(test_acc))\n",
    "best_beta = beta_vals[index]\n",
    "best_beta\n",
    "max(test_acc)\n"
   ]
  },
  {
   "cell_type": "markdown",
   "metadata": {},
   "source": [
    "Results at best_beta\n",
    "\n",
    "Initialized\n",
    "Minibatch loss at step 0: 700.051819\n",
    "Minibatch accuracy: 8.6%\n",
    "Validation accuracy: 41.3%\n",
    "Minibatch loss at step 500: 217.382782\n",
    "Minibatch accuracy: 82.8%\n",
    "Validation accuracy: 79.8%\n",
    "Minibatch loss at step 1000: 111.139748\n",
    "Minibatch accuracy: 78.9%\n",
    "Validation accuracy: 81.2%\n",
    "Minibatch loss at step 1500: 58.254711\n",
    "Minibatch accuracy: 91.4%\n",
    "Validation accuracy: 83.8%\n",
    "Minibatch loss at step 2000: 31.059258\n",
    "Minibatch accuracy: 90.6%\n",
    "Validation accuracy: 85.8%\n",
    "Minibatch loss at step 2500: 16.789158\n",
    "Minibatch accuracy: 88.3%\n",
    "Validation accuracy: 86.2%\n",
    "Minibatch loss at step 3000: 9.224454\n",
    "Minibatch accuracy: 85.9%\n",
    "Validation accuracy: 87.0%\n",
    "Test accuracy: 93.1%"
   ]
  },
  {
   "cell_type": "markdown",
   "metadata": {
    "colab_type": "text",
    "id": "na8xX2yHZzNF"
   },
   "source": [
    "---\n",
    "Problem 2\n",
    "---------\n",
    "Let's demonstrate an extreme case of overfitting. Restrict your training data to just a few batches. What happens?\n",
    "\n",
    "---"
   ]
  },
  {
   "cell_type": "code",
   "execution_count": null,
   "metadata": {},
   "outputs": [],
   "source": [
    "best_beta =  0.001584893192461114 \n",
    "\n",
    "num_batches=3\n",
    "\n",
    "with tf.Session(graph=graph) as session:\n",
    "    tf.global_variables_initializer().run()\n",
    "    print(\"Initialized\")\n",
    "    for step in range(num_steps):\n",
    "        # Pick an offset within the training data, which has been randomized.\n",
    "        # Note: we could use better randomization across epochs.\n",
    "        #offset = (step * batch_size) % (train_labels.shape[0] - batch_size)\n",
    "        offset = (step % num_batches* batch_size) % (train_labels.shape[0] - batch_size)\n",
    "        # Generate a minibatch.\n",
    "        batch_data = train_dataset[offset:(offset + batch_size), :]\n",
    "        batch_labels = train_labels[offset:(offset + batch_size), :]\n",
    "        # Prepare a dictionary telling the session where to feed the minibatch.\n",
    "        # The key of the dictionary is the placeholder node of the graph to be fed,\n",
    "        # and the value is the numpy array to feed to it.\n",
    "        feed_dict = {tf_train_dataset: batch_data,\n",
    "                     tf_train_labels: batch_labels, beta: best_beta}\n",
    "        _, l, predictions = session.run(\n",
    "            [optimizer, loss, train_prediction], feed_dict=feed_dict)\n",
    "        if (step % 500 == 0):\n",
    "            print(\"Minibatch loss at step %d: %f\" % (step, l))\n",
    "            print(\"Minibatch accuracy: %.1f%%\" % nmm.accuracy(predictions, batch_labels))\n",
    "            print(\"Validation accuracy: %.1f%%\" % nmm.accuracy(\n",
    "                valid_prediction.eval(), valid_labels))\n",
    "    print(\"Test accuracy: %.1f%%\" % nmm.accuracy(test_prediction.eval(), test_labels))"
   ]
  },
  {
   "cell_type": "markdown",
   "metadata": {},
   "source": [
    "Initialized\n",
    "Minibatch loss at step 0: 773.293823\n",
    "Minibatch accuracy: 10.2%\n",
    "Validation accuracy: 38.6%\n",
    "Minibatch loss at step 500: 210.755997\n",
    "Minibatch accuracy: 100.0%\n",
    "Validation accuracy: 75.5%\n",
    "Minibatch loss at step 1000: 112.285080\n",
    "Minibatch accuracy: 100.0%\n",
    "Validation accuracy: 75.5%\n",
    "Minibatch loss at step 1500: 59.822441\n",
    "Minibatch accuracy: 100.0%\n",
    "Validation accuracy: 75.6%\n",
    "Minibatch loss at step 2000: 31.871960\n",
    "Minibatch accuracy: 100.0%\n",
    "Validation accuracy: 75.5%\n",
    "Minibatch loss at step 2500: 16.981649\n",
    "Minibatch accuracy: 100.0%\n",
    "Validation accuracy: 75.7%\n",
    "Minibatch loss at step 3000: 9.052319\n",
    "Minibatch accuracy: 100.0%\n",
    "Validation accuracy: 76.1%\n",
    "Test accuracy: 83.8%\n",
    "\n",
    "Minibatch accuracy quickly reaches 100 while validation and test accuracy plateau"
   ]
  },
  {
   "cell_type": "markdown",
   "metadata": {
    "colab_type": "text",
    "id": "ww3SCBUdlkRc"
   },
   "source": [
    "---\n",
    "Problem 3\n",
    "---------\n",
    "Introduce Dropout on the hidden layer of the neural network. Remember: Dropout should only be introduced during training, not evaluation, otherwise your evaluation results would be stochastic as well. TensorFlow provides `nn.dropout()` for that, but you have to make sure it's only inserted during training.\n",
    "\n",
    "What happens to our extreme overfitting case?\n",
    "\n",
    "---"
   ]
  },
  {
   "cell_type": "code",
   "execution_count": null,
   "metadata": {},
   "outputs": [],
   "source": [
    "def NN_logits(train, weights, biases, prob=1.0):\n",
    "\n",
    "    for i in range(len(weights)):\n",
    "        logits = tf.matmul(train, weights[i]) + biases[i]\n",
    "        train = tf.nn.relu(logits)\n",
    "        train = tf.nn.dropout(train, prob)\n",
    "    return logits\n",
    "\n",
    "logit_maker = NN_logits\n",
    "\n",
    "graph = tf.Graph()\n",
    "with graph.as_default():\n",
    "    def generate_variables(dimension_list):\n",
    "        weights = []\n",
    "        biases = []\n",
    "        for i in range(1, len(dimension_list)):\n",
    "            weights.append(tf.Variable(tf.truncated_normal(\n",
    "                [dimension_list[i-1], dimension_list[i]])))\n",
    "            biases.append(tf.Variable(tf.zeros([dimension_list[i]])))\n",
    "        return weights, biases\n",
    "\n",
    "    # Input data. For the training data, we use a placeholder that will be fed\n",
    "    # at run time with a training minibatch.\n",
    "    tf_train_dataset = tf.placeholder(tf.float32,\n",
    "                                      shape=(batch_size, image_size * image_size))\n",
    "    tf_train_labels = tf.placeholder(tf.float32, shape=(batch_size, num_labels))\n",
    "    tf_valid_dataset = tf.constant(valid_dataset)\n",
    "    tf_test_dataset = tf.constant(test_dataset)\n",
    "    beta = tf.placeholder(tf.float32)\n",
    "\n",
    "    # Variables.\n",
    "    weights, biases = generate_variables(dimension_list)\n",
    "    # Training computation.\n",
    "    logits = logit_maker(tf_train_dataset,  weights, biases, 0.5)\n",
    "    loss = tf.reduce_mean(\n",
    "        tf.nn.softmax_cross_entropy_with_logits_v2(labels=tf_train_labels, logits=logits))\n",
    "\n",
    "    for weight in weights:\n",
    "        loss = loss + beta*tf.nn.l2_loss(weight)\n",
    "\n",
    "    # Optimizer.\n",
    "    optimizer = tf.train.GradientDescentOptimizer(0.5).minimize(loss)\n",
    "\n",
    "    # Predictions for the training, validation, and test data.\n",
    "    train_prediction = tf.nn.softmax(logits)\n",
    "    valid_logits = logit_maker(tf_valid_dataset, weights, biases)\n",
    "    valid_prediction = tf.nn.softmax(valid_logits)\n",
    "    test_logits = logit_maker(tf_test_dataset, weights, biases)\n",
    "    test_prediction = tf.nn.softmax(test_logits)"
   ]
  },
  {
   "cell_type": "markdown",
   "metadata": {},
   "source": [
    "Rerun session from before\n",
    "\n",
    "Initialized\n",
    "Minibatch loss at step 0: 945.241516\n",
    "Minibatch accuracy: 9.4%\n",
    "Validation accuracy: 25.4%\n",
    "Minibatch loss at step 500: 211.780579\n",
    "Minibatch accuracy: 100.0%\n",
    "Validation accuracy: 76.5%\n",
    "Minibatch loss at step 1000: 112.868469\n",
    "Minibatch accuracy: 100.0%\n",
    "Validation accuracy: 76.4%\n",
    "Minibatch loss at step 1500: 60.146503\n",
    "Minibatch accuracy: 100.0%\n",
    "Validation accuracy: 76.7%\n",
    "Minibatch loss at step 2000: 32.046276\n",
    "Minibatch accuracy: 100.0%\n",
    "Validation accuracy: 76.9%\n",
    "Minibatch loss at step 2500: 17.074589\n",
    "Minibatch accuracy: 100.0%\n",
    "Validation accuracy: 76.6%\n",
    "Minibatch loss at step 3000: 9.099283\n",
    "Minibatch accuracy: 100.0%\n",
    "Validation accuracy: 76.7%\n",
    "Test accuracy: 84.3%\n",
    "\n",
    "slight increase in test accuracy\n",
    "\n",
    "test accuracy goes down small amount when using not overfit graph"
   ]
  },
  {
   "cell_type": "markdown",
   "metadata": {
    "colab_type": "text",
    "id": "-b1hTz3VWZjw"
   },
   "source": [
    "---\n",
    "Problem 4\n",
    "---------\n",
    "\n",
    "Try to get the best performance you can using a multi-layer model! The best reported test accuracy using a deep network is [97.1%](http://yaroslavvb.blogspot.com/2011/09/notmnist-dataset.html?showComment=1391023266211#c8758720086795711595).\n",
    "\n",
    "One avenue you can explore is to add multiple layers.\n",
    "\n",
    "Another one is to use learning rate decay:\n",
    "\n",
    "    global_step = tf.Variable(0)  # count the number of steps taken.\n",
    "    learning_rate = tf.train.exponential_decay(0.5, global_step, ...)\n",
    "    optimizer = tf.train.GradientDescentOptimizer(learning_rate).minimize(loss, global_step=global_step)\n",
    " \n",
    " ---\n"
   ]
  },
  {
   "cell_type": "code",
   "execution_count": null,
   "metadata": {},
   "outputs": [],
   "source": [
    "dimension_list = [image_size*image_size, hidden_nodes, hidden_nodes//2, hidden_nodes//4, hidden_nodes//8, num_labels]\n",
    "logit_maker = NN_logits\n",
    "\n",
    "graph = tf.Graph()\n",
    "with graph.as_default():\n",
    "    def generate_variables(dimension_list):\n",
    "        weights = []\n",
    "        biases = []\n",
    "        for i in range(1, len(dimension_list)):\n",
    "            weights.append(tf.Variable(tf.truncated_normal(\n",
    "                [dimension_list[i-1], dimension_list[i]], stddev=np.sqrt(2.0/dimension_list[i-1]))))\n",
    "            biases.append(tf.Variable(tf.zeros([dimension_list[i]])))\n",
    "        return weights, biases\n",
    "\n",
    "    # Input data. For the training data, we use a placeholder that will be fed\n",
    "    # at run time with a training minibatch.\n",
    "    tf_train_dataset = tf.placeholder(tf.float32,\n",
    "                                      shape=(batch_size, image_size * image_size))\n",
    "    tf_train_labels = tf.placeholder(tf.float32, shape=(batch_size, num_labels))\n",
    "    tf_valid_dataset = tf.constant(valid_dataset)\n",
    "    tf_test_dataset = tf.constant(test_dataset)\n",
    "    beta = tf.placeholder(tf.float32)\n",
    "    global_step = tf.Variable(0)\n",
    "\n",
    "    # Variables.\n",
    "    weights, biases = generate_variables(dimension_list)\n",
    "    # Training computation.\n",
    "    logits = logit_maker(tf_train_dataset,  weights, biases, 0.5)\n",
    "    loss = tf.reduce_mean(\n",
    "        tf.nn.softmax_cross_entropy_with_logits_v2(labels=tf_train_labels, logits=logits))\n",
    "\n",
    "    for weight in weights:\n",
    "        loss = loss + beta*tf.nn.l2_loss(weight)\n",
    "\n",
    "    # Optimizer.\n",
    "    learning_rate = tf.train.exponential_decay(0.5, global_step, 1000, 0.80, staircase=True)\n",
    "    optimizer = tf.train.GradientDescentOptimizer(learning_rate).minimize(loss, global_step=global_step)\n",
    "\n",
    "    # Predictions for the training, validation, and test data.\n",
    "    train_prediction = tf.nn.softmax(logits)\n",
    "    valid_logits = logit_maker(tf_valid_dataset, weights, biases)\n",
    "    valid_prediction = tf.nn.softmax(valid_logits)\n",
    "    test_logits = logit_maker(tf_test_dataset, weights, biases)\n",
    "    test_prediction = tf.nn.softmax(test_logits)\n",
    "\n",
    "num_steps = 20001\n",
    "\n",
    "with tf.Session(graph=graph) as session:\n",
    "    tf.global_variables_initializer().run()\n",
    "    print(\"Initialized\")\n",
    "    for step in range(num_steps):\n",
    "        # Pick an offset within the training data, which has been randomized.\n",
    "        # Note: we could use better randomization across epochs.\n",
    "        offset = (step * batch_size) % (train_labels.shape[0] - batch_size)\n",
    "        # Generate a minibatch.\n",
    "        batch_data = train_dataset[offset:(offset + batch_size), :]\n",
    "        batch_labels = train_labels[offset:(offset + batch_size), :]\n",
    "        # Prepare a dictionary telling the session where to feed the minibatch.\n",
    "        # The key of the dictionary is the placeholder node of the graph to be fed,\n",
    "        # and the value is the numpy array to feed to it.\n",
    "        feed_dict = {tf_train_dataset: batch_data,\n",
    "                     tf_train_labels: batch_labels, beta: 1e-3}\n",
    "        _, l, predictions = session.run(\n",
    "            [optimizer, loss, train_prediction], feed_dict=feed_dict)\n",
    "        if (step % 500 == 0):\n",
    "            print(\"Minibatch loss at step %d: %f\" % (step, l))\n",
    "            print(\"Minibatch accuracy: %.1f%%\" % nmm.accuracy(predictions, batch_labels))\n",
    "            print(\"Validation accuracy: %.1f%%\" % nmm.accuracy(\n",
    "                valid_prediction.eval(), valid_labels))\n",
    "    print(\"Test accuracy: %.1f%%\" % nmm.accuracy(test_prediction.eval(), test_labels))"
   ]
  },
  {
   "cell_type": "markdown",
   "metadata": {},
   "source": [
    "This 4 layer NN can only achieve 95.8% test validation. There is probably more tweaking that can be done to all the parameters\n",
    "the beta parameter was just assigned since previous best_beta would no longer work for deeper networks.\n",
    "\n",
    "Initialized\n",
    "Minibatch loss at step 0: 4.592533\n",
    "Minibatch accuracy: 5.5%\n",
    "Validation accuracy: 11.8%\n",
    "Minibatch loss at step 500: 1.515888\n",
    "Minibatch accuracy: 87.5%\n",
    "Validation accuracy: 83.1%\n",
    "Minibatch loss at step 1000: 1.401958\n",
    "Minibatch accuracy: 80.5%\n",
    "Validation accuracy: 84.2%\n",
    "Minibatch loss at step 1500: 0.938252\n",
    "Minibatch accuracy: 88.3%\n",
    "Validation accuracy: 85.4%\n",
    "Minibatch loss at step 2000: 0.851192\n",
    "Minibatch accuracy: 88.3%\n",
    "Validation accuracy: 86.0%\n",
    "Minibatch loss at step 2500: 0.823489\n",
    "Minibatch accuracy: 84.4%\n",
    "Validation accuracy: 86.2%\n",
    "Minibatch loss at step 3000: 0.805953\n",
    "Minibatch accuracy: 85.9%\n",
    "Validation accuracy: 86.6%\n",
    "Minibatch loss at step 3500: 0.728941\n",
    "Minibatch accuracy: 85.9%\n",
    "Validation accuracy: 87.0%\n",
    "Minibatch loss at step 4000: 0.672844\n",
    "Minibatch accuracy: 90.6%\n",
    "Validation accuracy: 87.2%\n",
    "Minibatch loss at step 4500: 0.637506\n",
    "Minibatch accuracy: 85.9%\n",
    "Validation accuracy: 87.6%\n",
    "Minibatch loss at step 5000: 0.637102\n",
    "Minibatch accuracy: 85.9%\n",
    "Validation accuracy: 87.9%\n",
    "Minibatch loss at step 5500: 0.760427\n",
    "Minibatch accuracy: 83.6%\n",
    "Validation accuracy: 88.0%\n",
    "Minibatch loss at step 6000: 0.638273\n",
    "Minibatch accuracy: 86.7%\n",
    "Validation accuracy: 87.9%\n",
    "Minibatch loss at step 6500: 0.486741\n",
    "Minibatch accuracy: 90.6%\n",
    "Validation accuracy: 88.4%\n",
    "Minibatch loss at step 7000: 0.639844\n",
    "Minibatch accuracy: 88.3%\n",
    "Validation accuracy: 88.5%\n",
    "Minibatch loss at step 7500: 0.636015\n",
    "Minibatch accuracy: 84.4%\n",
    "Validation accuracy: 88.6%\n",
    "Minibatch loss at step 8000: 0.756223\n",
    "Minibatch accuracy: 81.2%\n",
    "Validation accuracy: 88.8%\n",
    "Minibatch loss at step 8500: 0.521703\n",
    "Minibatch accuracy: 90.6%\n",
    "Validation accuracy: 89.2%\n",
    "Minibatch loss at step 9000: 0.527586\n",
    "Minibatch accuracy: 89.8%\n",
    "Validation accuracy: 89.0%\n",
    "Minibatch loss at step 9500: 0.564700\n",
    "Minibatch accuracy: 88.3%\n",
    "Validation accuracy: 89.2%\n",
    "Minibatch loss at step 10000: 0.519875\n",
    "Minibatch accuracy: 87.5%\n",
    "Validation accuracy: 89.2%\n",
    "Minibatch loss at step 10500: 0.456685\n",
    "Minibatch accuracy: 89.8%\n",
    "Validation accuracy: 89.3%\n",
    "Minibatch loss at step 11000: 0.481208\n",
    "Minibatch accuracy: 90.6%\n",
    "Validation accuracy: 89.6%\n",
    "Minibatch loss at step 11500: 0.513526\n",
    "Minibatch accuracy: 87.5%\n",
    "Validation accuracy: 89.7%\n",
    "Minibatch loss at step 12000: 0.587778\n",
    "Minibatch accuracy: 86.7%\n",
    "Validation accuracy: 89.6%\n",
    "Minibatch loss at step 12500: 0.490071\n",
    "Minibatch accuracy: 88.3%\n",
    "Validation accuracy: 89.8%\n",
    "Minibatch loss at step 13000: 0.623221\n",
    "Minibatch accuracy: 85.9%\n",
    "Validation accuracy: 89.8%\n",
    "Minibatch loss at step 13500: 0.524691\n",
    "Minibatch accuracy: 88.3%\n",
    "Validation accuracy: 89.9%\n",
    "Minibatch loss at step 14000: 0.557879\n",
    "Minibatch accuracy: 85.2%\n",
    "Validation accuracy: 90.0%\n",
    "Minibatch loss at step 14500: 0.625119\n",
    "Minibatch accuracy: 85.9%\n",
    "Validation accuracy: 90.0%\n",
    "Minibatch loss at step 15000: 0.488735\n",
    "Minibatch accuracy: 89.8%\n",
    "Validation accuracy: 90.0%\n",
    "Minibatch loss at step 15500: 0.487046\n",
    "Minibatch accuracy: 90.6%\n",
    "Validation accuracy: 90.1%\n",
    "Minibatch loss at step 16000: 0.387694\n",
    "Minibatch accuracy: 92.2%\n",
    "Validation accuracy: 90.0%\n",
    "Minibatch loss at step 16500: 0.500416\n",
    "Minibatch accuracy: 91.4%\n",
    "Validation accuracy: 90.0%\n",
    "Minibatch loss at step 17000: 0.340107\n",
    "Minibatch accuracy: 94.5%\n",
    "Validation accuracy: 90.2%\n",
    "Minibatch loss at step 17500: 0.274398\n",
    "Minibatch accuracy: 95.3%\n",
    "Validation accuracy: 90.2%\n",
    "Minibatch loss at step 18000: 0.359431\n",
    "Minibatch accuracy: 93.8%\n",
    "Validation accuracy: 90.3%\n",
    "Minibatch loss at step 18500: 0.399571\n",
    "Minibatch accuracy: 90.6%\n",
    "Validation accuracy: 90.2%\n",
    "Minibatch loss at step 19000: 0.344663\n",
    "Minibatch accuracy: 96.1%\n",
    "Validation accuracy: 90.2%\n",
    "Minibatch loss at step 19500: 0.420528\n",
    "Minibatch accuracy: 91.4%\n",
    "Validation accuracy: 90.3%\n",
    "Minibatch loss at step 20000: 0.559027\n",
    "Minibatch accuracy: 85.2%\n",
    "Validation accuracy: 90.3%\n",
    "Test accuracy: 95.8%"
   ]
  }
 ],
 "metadata": {
  "colab": {
   "default_view": {},
   "name": "3_regularization.ipynb",
   "provenance": [],
   "version": "0.3.2",
   "views": {}
  },
  "kernelspec": {
   "display_name": "Python 3",
   "language": "python",
   "name": "python3"
  },
  "language_info": {
   "codemirror_mode": {
    "name": "ipython",
    "version": 3
   },
   "file_extension": ".py",
   "mimetype": "text/x-python",
   "name": "python",
   "nbconvert_exporter": "python",
   "pygments_lexer": "ipython3",
   "version": "3.5.5"
  }
 },
 "nbformat": 4,
 "nbformat_minor": 1
}
